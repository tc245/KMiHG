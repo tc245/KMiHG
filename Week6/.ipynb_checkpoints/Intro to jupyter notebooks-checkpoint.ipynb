{
 "cells": [
  {
   "cell_type": "markdown",
   "metadata": {},
   "source": [
    "# Welcome to your first Jupyter notebook!\n",
    "\n",
    "\n",
    "Introduction\n",
    "---\n",
    "In this introductory practical exercise we are going to introduce ourselves to the very basics of computer programming, skills which are essential in modern data analysis at any level. Up to now, most of you will have completed statistical analysis using tools like Microsoft Excel (e.g. in the fundamental methods course in year 1). This involved using what we call a \"Graphical User Interface\" or a GUI and pointing and clicking on menu items to complete your analysis. However, this is a very inefficient way of doing statistical analysis, particularly when your analysis starts to get even moderately complex and involving multiple steps. For example, what happens if after completing your analysis you realise you have made a mistake in an earlier step, perhaps you make an error when typing data into your spreadsheet? You would then have to rectify the mistake and repeat all of the steps all over again. What if instead, it was possible to write out your analysis steps using computer code? This would mean your entire analysis would be contained within a \"script\" that could be run by the computer multiple times. So, if you did make a mistake in an earlier step, all you would need to do is locate the error in your script, make the change and then run the script again to reproduce the analysis. This is a much more efficient way of working! Of course, this also means we need to learn the \"language\" of the program we are using in order to write the code. This is where noteable and jupyter notebooks come in...\n",
    "\n",
    "\n",
    "What is a Jupyter Notebook?!\n",
    "---\n",
    "\n",
    "Let's take a moment to get familiarised with what a Jupyter Notebook actually is! First and foremost, the Jupyter Notebook is an interactive environment for writing and running computer programming code. Typically, these notebooks run in the \"cloud\" (i.e. on a remote computer somewhere which you access via the internet and a web browser). The University of Edinburgh runs its own Jupyter Notebook platform called \"Noteable\". \n",
    "\n",
    "Jupyter notebooks are capable of running code in a wide range of languages. Each notebook runs a particular \"kernel\" and is associated with a single language. What is a kernel I hear you ask? Think of the kernel basically as the \"computer\", the thing that is going to \"interpret\" the code script you send to it and carry out the relevant commands. The notebooks we are using are running the \"R\" statistical analysis software, therefore it interprets and runs R commands and code. R is fast becoming the default statistical analysis software in industry and graduates with R skills are becoming highly sought after. R is also free and does not require a licence so you are free to continue using it after you leave university! \n",
    "\n",
    "The main feature of the notebooks themselves is that they contain both interactive elements (where you run code and see the results) and traditional textbook or instructions material in one place (no more switching between a word document with instructions and the actual software!). They are primarily organised around \"cells\". A cell can be a \"Markdown\" type of cell which contains text or instructions (like this one). Or it can be a \"code\" cell which contains the raw computer code. When you \"run\" or \"execute\" a code cell the commands in the cell are sent to the computer to be interpreted and then run. The computer then sends back the result which will be displayed as output below the cell. Lets try out running some code with a classic first example...\n",
    "\n",
    "\n",
    "\"Hello World!\"\n",
    "---\n",
    "When programmers first start learning to code (as you are!) including learning a new language, we tend to write a one-line program that prints some version of the message \"Hello world!\". This has become a bit of a tradition among programmers and developers! It is a simple program that shows whether your computer is properly set up.\n",
    "\n",
    "So lets do that. Copy and paste the code below into the the cell below. Then run the code by using either `Shift-Enter` or pressing the \"run\"  button in the toolbar above:\n",
    "\n",
    "`print('Hello R world!')`\n"
   ]
  },
  {
   "cell_type": "code",
   "execution_count": null,
   "metadata": {},
   "outputs": [],
   "source": []
  },
  {
   "cell_type": "markdown",
   "metadata": {},
   "source": [
    "You should see the text \"Hello R world!\" printed above. If so, congratulations! You just ran your first program. Welcome to the world of computer programming!\n",
    "\n",
    "There are two other keyboard shortcuts for running code that might be useful:\n",
    "\n",
    "* `Alt-Enter` runs the current cell and inserts a new one below.\n",
    "* `Ctrl-Enter` run the current cell and enters command mode.\n",
    "\n",
    "These commands above are useful, but the main thing to remember here is that you can run cells either with \"Shift-Enter\" or using the \"run\" button."
   ]
  },
  {
   "cell_type": "markdown",
   "metadata": {},
   "source": [
    "## Running cells and working with output\n",
    "\n",
    "When code is being executed you will see a `*` symbol next to the cell that is being run. This will change to a number when it is completed. This is important because sometimes a command will not generate any output and so the * helps you to know when a command has finished running. Run the below code to see this (it will take 5 seconds to complete):\n",
    "\n",
    "Don't worry about the code itself, it isnt important. We are just demonstrating how the notebooks work. In the actual practicals we will spend more time explaining what the code means and what it is doing."
   ]
  },
  {
   "cell_type": "code",
   "execution_count": null,
   "metadata": {},
   "outputs": [],
   "source": [
    "Sys.sleep(5)"
   ]
  },
  {
   "cell_type": "markdown",
   "metadata": {},
   "source": [
    "Cells will always be completed one after the other. So you can run cells before previous cells have completed and these will added to a \"queue\". Try this below by running the two cells below, one immediately after the other:"
   ]
  },
  {
   "cell_type": "code",
   "execution_count": null,
   "metadata": {},
   "outputs": [],
   "source": [
    "Sys.sleep(5)"
   ]
  },
  {
   "cell_type": "code",
   "execution_count": null,
   "metadata": {},
   "outputs": [],
   "source": [
    "Sys.sleep(5)"
   ]
  },
  {
   "cell_type": "markdown",
   "metadata": {},
   "source": [
    "To better handle large outputs, the output area can be collapsed. Run the following cell and then single- or double- click on the active area to the left of the output (again dont worry about the code itself, it is just to demonstrate how the notebooks deal with a large amount of output!). You should see that the output is collapsed and a scrolling bar added."
   ]
  },
  {
   "cell_type": "code",
   "execution_count": null,
   "metadata": {
    "scrolled": false
   },
   "outputs": [],
   "source": [
    " # Create a vector filled with random normal values\n",
    "u1 <- rnorm(1000)\n",
    "print(\"This loop calculates the square of the first 10 elements of vector u1\")\n",
    "\n",
    "# Initialize `usq`\n",
    "usq <- 0\n",
    "\n",
    "for(i in 1:50) {\n",
    "  # i-th element of `u1` squared into `i`-th position of `usq`\n",
    "  usq[i] <- u1[i]*u1[i]\n",
    "  print(usq[i])\n",
    "}\n",
    "\n",
    "print(i)"
   ]
  },
  {
   "cell_type": "markdown",
   "metadata": {},
   "source": [
    "Beyond a certain point, output will scroll automatically. Run the below cell to test this out:"
   ]
  },
  {
   "cell_type": "code",
   "execution_count": null,
   "metadata": {
    "scrolled": true
   },
   "outputs": [],
   "source": [
    " # Create a vector filled with random normal values\n",
    "u1 <- rnorm(1000)\n",
    "print(\"This loop calculates the square of the first 10 elements of vector u1\")\n",
    "\n",
    "# Initialize `usq`\n",
    "usq <- 0\n",
    "\n",
    "for(i in 1:600) {\n",
    "  # i-th element of `u1` squared into `i`-th position of `usq`\n",
    "  usq[i] <- u1[i]*u1[i]\n",
    "  print(usq[i])\n",
    "}\n",
    "\n",
    "print(i)"
   ]
  },
  {
   "cell_type": "markdown",
   "metadata": {},
   "source": [
    "## Adding and changing cells\n",
    "\n",
    "You can add your own cells using the `+` button in the menu at the top of the notebook. This will be code cell by default but you can change this to a text cell or \"markdown\" as jupyter calls them using the dropdown menu at the top of the screen. There is also a keyboard shortcut to do this. Pressing `Esc-a` will add a code cell below the current cell and `Esc-b` will add a markdown cell below the current cell Try this now. Add a code cell below this cell and in that cell write some code to print a message of your choice and then run this command. \n",
    "\n",
    "Hint: Use the code we used earlier to print the 'Hello R world!' message making sure you change the message text! e.g. `print(\"I love Statistics!\")`. Dont forget the quote marks!"
   ]
  },
  {
   "cell_type": "markdown",
   "metadata": {},
   "source": [
    "You can also delete, copy and paste cells using the various menu buttons in the toolbar above."
   ]
  },
  {
   "cell_type": "markdown",
   "metadata": {},
   "source": [
    "Sometime you might want to clear output. Running a cell again will automatically clear existing output but you can also do things like clear all output from all cells at once as well as toggle outputs on and off. All of these functions can be found in the \"Cell\" menu in the main toolbar under \"current\" and \"All\" outputs. There are some other useful cell commands in there as well that you can take a look at. "
   ]
  },
  {
   "cell_type": "markdown",
   "metadata": {},
   "source": [
    "## Saving your notebooks\n",
    "\n",
    "Ok, that nearly completes our introduction to jupyter notebooks. The last thing to make you aware of is that you can use the menus at the top to do various things. You can use the `File` menu to open and close notebooks as well as save copies. I would advise that when you open one of the notebooks that you immediately save a copy by clicking `File` -> `Save as`. This will allow you to save a copy of the notebook with a new filename so that if you ever want to return to the original notebook you can. <b>When you do this, a box will pop up with `KMiHG.git/Week6/` written in it. Delete all of this text and just write whatever you want to call your notebook in the box and click `save`.</b>\n",
    "\n",
    "Have a go at saving a version of this notebook now. When you do, you can go back to the main files area and you should see a the new notebook saved."
   ]
  },
  {
   "cell_type": "markdown",
   "metadata": {},
   "source": [
    "Excellent! That completes our introduction  to using jupyter notebooks. Now onto some proper programming... "
   ]
  }
 ],
 "metadata": {
  "kernelspec": {
   "display_name": "R with Stan",
   "language": "R",
   "name": "ir"
  },
  "language_info": {
   "codemirror_mode": "r",
   "file_extension": ".r",
   "mimetype": "text/x-r-source",
   "name": "R",
   "pygments_lexer": "r",
   "version": "4.1.1"
  }
 },
 "nbformat": 4,
 "nbformat_minor": 4
}
